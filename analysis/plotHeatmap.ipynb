{
 "cells": [
  {
   "cell_type": "code",
   "execution_count": null,
   "id": "a47ae15b",
   "metadata": {},
   "outputs": [],
   "source": [
    "# plot Hi-C heatmap\n",
    "# 1.takes file: .mcool file\n",
    "#   applies tools: cooler and cooltools\n",
    "#   produces output: .pdf file of heatmap\n",
    "\n",
    "# import standard python libraries\n",
    "import numpy as np\n",
    "import matplotlib.pyplot as plt\n",
    "import seaborn as sns\n",
    "import pandas as pd\n",
    "import pandas as pd\n",
    "import os\n",
    "import cooltools\n",
    "import cooler\n",
    "import cooler\n",
    "from matplotlib.colors import LogNorm\n",
    "import cooltools.lib.plotting"
   ]
  },
  {
   "cell_type": "code",
   "execution_count": null,
   "id": "ecc8d198",
   "metadata": {},
   "outputs": [],
   "source": [
    "# to load a cooler with a specific resolution\n",
    "\n",
    "resolution = 2000\n",
    "clr_DMSO = cooler.Cooler(f\"DNaseC_R3D7_DMSO4h_UMI_rmdup.mcool::/resolutions/{resolution}\")\n",
    "clr_dTAG = cooler.Cooler(f\"DNaseC_R3D7_dTAG4h_UMI_rmdup.mcool::/resolutions/{resolution}\")"
   ]
  },
  {
   "cell_type": "code",
   "execution_count": null,
   "id": "a98f6dbd",
   "metadata": {},
   "outputs": [],
   "source": [
    "# to set range\n",
    "\n",
    "start = 10000000\n",
    "end = 11000000\n",
    "region = ('chr2', start, end)\n",
    "extents = (start, end, end, start)\n",
    "norm = LogNorm(vmin=0.0001,vmax=0.1)"
   ]
  },
  {
   "cell_type": "code",
   "execution_count": null,
   "id": "5394b3cc",
   "metadata": {},
   "outputs": [],
   "source": [
    "# to plot heatmap\n",
    "\n",
    "f, axs = plt.subplots(\n",
    "    nrows=1,\n",
    "    ncols=1)\n",
    "norm_raw = LogNorm(vmin=1, vmax=10_000)\n",
    "im = axs.matshow(clr_DMSO.matrix(balance=True).fetch(region), cmap='fall', norm=norm, extent=extents)\n",
    "plt.colorbar(im, ax=axs, fraction=0.046, label='corrected frequencies')\n",
    "axs.xaxis.set_visible(False)\n",
    "axs.yaxis.set_visible(False)"
   ]
  },
  {
   "cell_type": "code",
   "execution_count": null,
   "id": "d82c7068",
   "metadata": {},
   "outputs": [],
   "source": [
    "# to save .pdf file\n",
    "\n",
    "f.savefig('DMSO.pdf')"
   ]
  },
  {
   "cell_type": "code",
   "execution_count": null,
   "id": "ac8eaa0e",
   "metadata": {},
   "outputs": [],
   "source": [
    "# to plot heatmap\n",
    "\n",
    "f, axs = plt.subplots(\n",
    "    nrows=1,\n",
    "    ncols=1)\n",
    "norm_raw = LogNorm(vmin=1, vmax=10_000)\n",
    "im = axs.matshow(clr_dTAG.matrix(balance=True).fetch(region), cmap='fall', norm=norm, extent=extents)\n",
    "plt.colorbar(im, ax=axs, fraction=0.046, label='corrected frequencies')\n",
    "axs.xaxis.set_visible(False)\n",
    "axs.yaxis.set_visible(False)"
   ]
  },
  {
   "cell_type": "code",
   "execution_count": null,
   "id": "159a117e",
   "metadata": {},
   "outputs": [],
   "source": [
    "# to save .pdf file\n",
    "\n",
    "f.savefig('dTAG.pdf')"
   ]
  }
 ],
 "metadata": {
  "kernelspec": {
   "display_name": "Python 3 (ipykernel)",
   "language": "python",
   "name": "python3"
  },
  "language_info": {
   "codemirror_mode": {
    "name": "ipython",
    "version": 3
   },
   "file_extension": ".py",
   "mimetype": "text/x-python",
   "name": "python",
   "nbconvert_exporter": "python",
   "pygments_lexer": "ipython3",
   "version": "3.8.12"
  }
 },
 "nbformat": 4,
 "nbformat_minor": 5
}
